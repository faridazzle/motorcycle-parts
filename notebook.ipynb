{
 "cells": [
  {
   "cell_type": "markdown",
   "id": "0743effe",
   "metadata": {},
   "source": [
    "# ℹ️ Introduction to data science notebooks\n",
    "\n",
    "You can skip this section if you are already familiar with data science notebooks.\n",
    "\n",
    "## Data science notebooks\n",
    "A _data science notebook_ is a document that contains text cells (what you're reading right now) and code cells. What is unique with a notebook is that it's **interactive**: You can change or add code cells, and then **run** a cell by selecting it and then clicking the **Run** button above ( <strong>▶</strong>, or Run All ) or hitting `shift + enter`.\n",
    "\n",
    "The result will be displayed directly in the notebook. \n",
    "\n",
    "Try running the cell below:"
   ]
  },
  {
   "cell_type": "code",
   "execution_count": 1,
   "id": "7e3543ec",
   "metadata": {},
   "outputs": [
    {
     "data": {
      "text/plain": [
       "3360.0"
      ]
     },
     "execution_count": 1,
     "metadata": {},
     "output_type": "execute_result"
    }
   ],
   "source": [
    "# Run this cell to see the result\n",
    "120 * 1.75 * 16"
   ]
  },
  {
   "cell_type": "code",
   "execution_count": null,
   "id": "65a63f9f-4fa3-40c7-b547-4b8957e9ddad",
   "metadata": {
    "customType": "sql",
    "dataFrameVariableName": "df",
    "initial": false
   },
   "outputs": [
    {
     "ename": "Error",
     "evalue": "Please select an integration.",
     "output_type": "error",
     "traceback": []
    }
   ],
   "source": []
  },
  {
   "cell_type": "markdown",
   "id": "95a7ffb5",
   "metadata": {},
   "source": [
    "Modify any of the numbers and rerun the cell."
   ]
  },
  {
   "cell_type": "markdown",
   "id": "4118f8a0",
   "metadata": {},
   "source": [
    "## Data science notebooks & data analysis\n",
    "Notebooks are great for interactive data analysis. Let's create a pandas DataFrame using the `read_csv()` function. \n",
    "\n",
    "We will load the dataset \"sales_data.csv\" containing three months of sales data for the company. We use the `parse_dates` option to ensure that the \"date\" column is loaded correctly.\n",
    "\n",
    "By using the `head()` command, we display the first five rows of data:"
   ]
  },
  {
   "cell_type": "code",
   "execution_count": 2,
   "id": "70a3b9bd",
   "metadata": {},
   "outputs": [
    {
     "data": {
      "application/com.datacamp.data-table.v1+json": {
       "table": {
        "data": [
         {
          "client_type": "Retail",
          "date": "2021-06-01T00:00:00.000Z",
          "index": 0,
          "payment": "Credit card",
          "product_line": "Miscellaneous",
          "quantity": 8,
          "total": 134.83,
          "unit_price": 16.85,
          "warehouse": "Central"
         },
         {
          "client_type": "Retail",
          "date": "2021-06-01T00:00:00.000Z",
          "index": 1,
          "payment": "Cash",
          "product_line": "Breaking system",
          "quantity": 9,
          "total": 173.61,
          "unit_price": 19.29,
          "warehouse": "North"
         },
         {
          "client_type": "Retail",
          "date": "2021-06-01T00:00:00.000Z",
          "index": 2,
          "payment": "Credit card",
          "product_line": "Suspension & traction",
          "quantity": 8,
          "total": 263.45,
          "unit_price": 32.93,
          "warehouse": "North"
         },
         {
          "client_type": "Wholesale",
          "date": "2021-06-01T00:00:00.000Z",
          "index": 3,
          "payment": "Transfer",
          "product_line": "Frame & body",
          "quantity": 16,
          "total": 605.44,
          "unit_price": 37.84,
          "warehouse": "North"
         },
         {
          "client_type": "Retail",
          "date": "2021-06-01T00:00:00.000Z",
          "index": 4,
          "payment": "Credit card",
          "product_line": "Engine",
          "quantity": 2,
          "total": 120.96,
          "unit_price": 60.48,
          "warehouse": "Central"
         }
        ],
        "schema": {
         "fields": [
          {
           "name": "index",
           "type": "integer"
          },
          {
           "name": "date",
           "type": "datetime"
          },
          {
           "name": "warehouse",
           "type": "string"
          },
          {
           "name": "client_type",
           "type": "string"
          },
          {
           "name": "product_line",
           "type": "string"
          },
          {
           "name": "quantity",
           "type": "integer"
          },
          {
           "name": "unit_price",
           "type": "number"
          },
          {
           "name": "total",
           "type": "number"
          },
          {
           "name": "payment",
           "type": "string"
          }
         ],
         "pandas_version": "1.4.0",
         "primaryKey": [
          "index"
         ]
        }
       },
       "total_rows": 5,
       "truncation_type": null
      },
      "text/html": [
       "<div>\n",
       "<style scoped>\n",
       "    .dataframe tbody tr th:only-of-type {\n",
       "        vertical-align: middle;\n",
       "    }\n",
       "\n",
       "    .dataframe tbody tr th {\n",
       "        vertical-align: top;\n",
       "    }\n",
       "\n",
       "    .dataframe thead th {\n",
       "        text-align: right;\n",
       "    }\n",
       "</style>\n",
       "<table border=\"1\" class=\"dataframe\">\n",
       "  <thead>\n",
       "    <tr style=\"text-align: right;\">\n",
       "      <th></th>\n",
       "      <th>date</th>\n",
       "      <th>warehouse</th>\n",
       "      <th>client_type</th>\n",
       "      <th>product_line</th>\n",
       "      <th>quantity</th>\n",
       "      <th>unit_price</th>\n",
       "      <th>total</th>\n",
       "      <th>payment</th>\n",
       "    </tr>\n",
       "  </thead>\n",
       "  <tbody>\n",
       "    <tr>\n",
       "      <th>0</th>\n",
       "      <td>2021-06-01</td>\n",
       "      <td>Central</td>\n",
       "      <td>Retail</td>\n",
       "      <td>Miscellaneous</td>\n",
       "      <td>8</td>\n",
       "      <td>16.85</td>\n",
       "      <td>134.83</td>\n",
       "      <td>Credit card</td>\n",
       "    </tr>\n",
       "    <tr>\n",
       "      <th>1</th>\n",
       "      <td>2021-06-01</td>\n",
       "      <td>North</td>\n",
       "      <td>Retail</td>\n",
       "      <td>Breaking system</td>\n",
       "      <td>9</td>\n",
       "      <td>19.29</td>\n",
       "      <td>173.61</td>\n",
       "      <td>Cash</td>\n",
       "    </tr>\n",
       "    <tr>\n",
       "      <th>2</th>\n",
       "      <td>2021-06-01</td>\n",
       "      <td>North</td>\n",
       "      <td>Retail</td>\n",
       "      <td>Suspension &amp; traction</td>\n",
       "      <td>8</td>\n",
       "      <td>32.93</td>\n",
       "      <td>263.45</td>\n",
       "      <td>Credit card</td>\n",
       "    </tr>\n",
       "    <tr>\n",
       "      <th>3</th>\n",
       "      <td>2021-06-01</td>\n",
       "      <td>North</td>\n",
       "      <td>Wholesale</td>\n",
       "      <td>Frame &amp; body</td>\n",
       "      <td>16</td>\n",
       "      <td>37.84</td>\n",
       "      <td>605.44</td>\n",
       "      <td>Transfer</td>\n",
       "    </tr>\n",
       "    <tr>\n",
       "      <th>4</th>\n",
       "      <td>2021-06-01</td>\n",
       "      <td>Central</td>\n",
       "      <td>Retail</td>\n",
       "      <td>Engine</td>\n",
       "      <td>2</td>\n",
       "      <td>60.48</td>\n",
       "      <td>120.96</td>\n",
       "      <td>Credit card</td>\n",
       "    </tr>\n",
       "  </tbody>\n",
       "</table>\n",
       "</div>"
      ],
      "text/plain": [
       "        date warehouse client_type           product_line  quantity  \\\n",
       "0 2021-06-01   Central      Retail          Miscellaneous         8   \n",
       "1 2021-06-01     North      Retail        Breaking system         9   \n",
       "2 2021-06-01     North      Retail  Suspension & traction         8   \n",
       "3 2021-06-01     North   Wholesale           Frame & body        16   \n",
       "4 2021-06-01   Central      Retail                 Engine         2   \n",
       "\n",
       "   unit_price   total      payment  \n",
       "0       16.85  134.83  Credit card  \n",
       "1       19.29  173.61         Cash  \n",
       "2       32.93  263.45  Credit card  \n",
       "3       37.84  605.44     Transfer  \n",
       "4       60.48  120.96  Credit card  "
      ]
     },
     "execution_count": 2,
     "metadata": {},
     "output_type": "execute_result"
    }
   ],
   "source": [
    "# Importing the pandas module\n",
    "import pandas as pd\n",
    "\n",
    "# Reading in the sales data\n",
    "df = pd.read_csv('data/sales_data.csv', parse_dates=['date'])\n",
    "\n",
    "# Take a look at the first datapoints\n",
    "df.head()"
   ]
  },
  {
   "cell_type": "markdown",
   "id": "e284bdf0",
   "metadata": {},
   "source": [
    "## Data analysis example:\n",
    "\n",
    "Find the total sales for each warehouse. \n",
    "\n",
    "We can use `groupby` to group the information by the column \"warehouse\". Then we select the column \"total\" and use `.sum()` to add the \"total\" column for each warehouse:"
   ]
  },
  {
   "cell_type": "code",
   "execution_count": 3,
   "id": "5d4e35b9",
   "metadata": {},
   "outputs": [
    {
     "data": {
      "application/com.datacamp.data-table.v1+json": {
       "table": {
        "data": [
         {
          "total": 141982.88,
          "warehouse": "Central"
         },
         {
          "total": 100203.63,
          "warehouse": "North"
         },
         {
          "total": 46926.49,
          "warehouse": "West"
         }
        ],
        "schema": {
         "fields": [
          {
           "name": "warehouse",
           "type": "string"
          },
          {
           "name": "total",
           "type": "number"
          }
         ],
         "pandas_version": "1.4.0",
         "primaryKey": [
          "warehouse"
         ]
        }
       },
       "total_rows": 3,
       "truncation_type": null
      },
      "text/html": [
       "<div>\n",
       "<style scoped>\n",
       "    .dataframe tbody tr th:only-of-type {\n",
       "        vertical-align: middle;\n",
       "    }\n",
       "\n",
       "    .dataframe tbody tr th {\n",
       "        vertical-align: top;\n",
       "    }\n",
       "\n",
       "    .dataframe thead th {\n",
       "        text-align: right;\n",
       "    }\n",
       "</style>\n",
       "<table border=\"1\" class=\"dataframe\">\n",
       "  <thead>\n",
       "    <tr style=\"text-align: right;\">\n",
       "      <th></th>\n",
       "      <th>total</th>\n",
       "    </tr>\n",
       "    <tr>\n",
       "      <th>warehouse</th>\n",
       "      <th></th>\n",
       "    </tr>\n",
       "  </thead>\n",
       "  <tbody>\n",
       "    <tr>\n",
       "      <th>Central</th>\n",
       "      <td>141982.88</td>\n",
       "    </tr>\n",
       "    <tr>\n",
       "      <th>North</th>\n",
       "      <td>100203.63</td>\n",
       "    </tr>\n",
       "    <tr>\n",
       "      <th>West</th>\n",
       "      <td>46926.49</td>\n",
       "    </tr>\n",
       "  </tbody>\n",
       "</table>\n",
       "</div>"
      ],
      "text/plain": [
       "               total\n",
       "warehouse           \n",
       "Central    141982.88\n",
       "North      100203.63\n",
       "West        46926.49"
      ]
     },
     "execution_count": 3,
     "metadata": {},
     "output_type": "execute_result"
    }
   ],
   "source": [
    "df.groupby('warehouse')[['total']].sum()"
   ]
  },
  {
   "cell_type": "code",
   "execution_count": 4,
   "id": "9fbf3a48-c779-4222-af30-0b9524080f06",
   "metadata": {},
   "outputs": [
    {
     "data": {
      "application/com.datacamp.data-table.v1+json": {
       "table": {
        "data": [
         {
          "client_type": "Retail",
          "date": "2021-06-01T00:00:00.000Z",
          "index": 0,
          "payment": "Credit card",
          "product_line": "Miscellaneous",
          "quantity": 8,
          "total": 134.83,
          "unit_price": 16.85,
          "warehouse": "Central"
         },
         {
          "client_type": "Retail",
          "date": "2021-06-01T00:00:00.000Z",
          "index": 1,
          "payment": "Cash",
          "product_line": "Breaking system",
          "quantity": 9,
          "total": 173.61,
          "unit_price": 19.29,
          "warehouse": "North"
         },
         {
          "client_type": "Retail",
          "date": "2021-06-01T00:00:00.000Z",
          "index": 2,
          "payment": "Credit card",
          "product_line": "Suspension & traction",
          "quantity": 8,
          "total": 263.45,
          "unit_price": 32.93,
          "warehouse": "North"
         },
         {
          "client_type": "Wholesale",
          "date": "2021-06-01T00:00:00.000Z",
          "index": 3,
          "payment": "Transfer",
          "product_line": "Frame & body",
          "quantity": 16,
          "total": 605.44,
          "unit_price": 37.84,
          "warehouse": "North"
         },
         {
          "client_type": "Retail",
          "date": "2021-06-01T00:00:00.000Z",
          "index": 4,
          "payment": "Credit card",
          "product_line": "Engine",
          "quantity": 2,
          "total": 120.96,
          "unit_price": 60.48,
          "warehouse": "Central"
         }
        ],
        "schema": {
         "fields": [
          {
           "name": "index",
           "type": "integer"
          },
          {
           "name": "date",
           "type": "datetime"
          },
          {
           "name": "warehouse",
           "type": "string"
          },
          {
           "name": "client_type",
           "type": "string"
          },
          {
           "name": "product_line",
           "type": "string"
          },
          {
           "name": "quantity",
           "type": "integer"
          },
          {
           "name": "unit_price",
           "type": "number"
          },
          {
           "name": "total",
           "type": "number"
          },
          {
           "name": "payment",
           "type": "string"
          }
         ],
         "pandas_version": "1.4.0",
         "primaryKey": [
          "index"
         ]
        }
       },
       "total_rows": 5,
       "truncation_type": null
      },
      "text/html": [
       "<div>\n",
       "<style scoped>\n",
       "    .dataframe tbody tr th:only-of-type {\n",
       "        vertical-align: middle;\n",
       "    }\n",
       "\n",
       "    .dataframe tbody tr th {\n",
       "        vertical-align: top;\n",
       "    }\n",
       "\n",
       "    .dataframe thead th {\n",
       "        text-align: right;\n",
       "    }\n",
       "</style>\n",
       "<table border=\"1\" class=\"dataframe\">\n",
       "  <thead>\n",
       "    <tr style=\"text-align: right;\">\n",
       "      <th></th>\n",
       "      <th>date</th>\n",
       "      <th>warehouse</th>\n",
       "      <th>client_type</th>\n",
       "      <th>product_line</th>\n",
       "      <th>quantity</th>\n",
       "      <th>unit_price</th>\n",
       "      <th>total</th>\n",
       "      <th>payment</th>\n",
       "    </tr>\n",
       "  </thead>\n",
       "  <tbody>\n",
       "    <tr>\n",
       "      <th>0</th>\n",
       "      <td>2021-06-01</td>\n",
       "      <td>Central</td>\n",
       "      <td>Retail</td>\n",
       "      <td>Miscellaneous</td>\n",
       "      <td>8</td>\n",
       "      <td>16.85</td>\n",
       "      <td>134.83</td>\n",
       "      <td>Credit card</td>\n",
       "    </tr>\n",
       "    <tr>\n",
       "      <th>1</th>\n",
       "      <td>2021-06-01</td>\n",
       "      <td>North</td>\n",
       "      <td>Retail</td>\n",
       "      <td>Breaking system</td>\n",
       "      <td>9</td>\n",
       "      <td>19.29</td>\n",
       "      <td>173.61</td>\n",
       "      <td>Cash</td>\n",
       "    </tr>\n",
       "    <tr>\n",
       "      <th>2</th>\n",
       "      <td>2021-06-01</td>\n",
       "      <td>North</td>\n",
       "      <td>Retail</td>\n",
       "      <td>Suspension &amp; traction</td>\n",
       "      <td>8</td>\n",
       "      <td>32.93</td>\n",
       "      <td>263.45</td>\n",
       "      <td>Credit card</td>\n",
       "    </tr>\n",
       "    <tr>\n",
       "      <th>3</th>\n",
       "      <td>2021-06-01</td>\n",
       "      <td>North</td>\n",
       "      <td>Wholesale</td>\n",
       "      <td>Frame &amp; body</td>\n",
       "      <td>16</td>\n",
       "      <td>37.84</td>\n",
       "      <td>605.44</td>\n",
       "      <td>Transfer</td>\n",
       "    </tr>\n",
       "    <tr>\n",
       "      <th>4</th>\n",
       "      <td>2021-06-01</td>\n",
       "      <td>Central</td>\n",
       "      <td>Retail</td>\n",
       "      <td>Engine</td>\n",
       "      <td>2</td>\n",
       "      <td>60.48</td>\n",
       "      <td>120.96</td>\n",
       "      <td>Credit card</td>\n",
       "    </tr>\n",
       "  </tbody>\n",
       "</table>\n",
       "</div>"
      ],
      "text/plain": [
       "        date warehouse client_type           product_line  quantity  \\\n",
       "0 2021-06-01   Central      Retail          Miscellaneous         8   \n",
       "1 2021-06-01     North      Retail        Breaking system         9   \n",
       "2 2021-06-01     North      Retail  Suspension & traction         8   \n",
       "3 2021-06-01     North   Wholesale           Frame & body        16   \n",
       "4 2021-06-01   Central      Retail                 Engine         2   \n",
       "\n",
       "   unit_price   total      payment  \n",
       "0       16.85  134.83  Credit card  \n",
       "1       19.29  173.61         Cash  \n",
       "2       32.93  263.45  Credit card  \n",
       "3       37.84  605.44     Transfer  \n",
       "4       60.48  120.96  Credit card  "
      ]
     },
     "execution_count": 4,
     "metadata": {},
     "output_type": "execute_result"
    }
   ],
   "source": [
    "df.head()"
   ]
  },
  {
   "cell_type": "markdown",
   "id": "79f08582",
   "metadata": {},
   "source": [
    "## Data science notebooks & visualizations\n",
    "Visualizations are very helpful to summarize data and gain insights. A well-crafted chart often conveys information much better than a table.\n",
    "\n",
    "It is very straightforward to include plots in a data science notebook. For example, let's look at the average number of items purchased by each client type. \n",
    "\n",
    "We are using the `matplotlib.pyplot` library for this example. We will run the `.plot()` method on the data we want to display and call `plt.show()` to draw the plot:"
   ]
  },
  {
   "cell_type": "code",
   "execution_count": 5,
   "id": "4f22ecb4",
   "metadata": {},
   "outputs": [
    {
     "data": {
      "image/png": "[encoded data removed]",
      "text/plain": [
       "<Figure size 640x480 with 1 Axes>"
      ]
     },
     "metadata": {},
     "output_type": "display_data"
    }
   ],
   "source": [
    "import matplotlib.pyplot as plt\n",
    "\n",
    "avg_units_client_type = df.groupby('client_type')['quantity'].mean()\n",
    "avg_units_client_type.plot(kind='barh')\n",
    "plt.show()"
   ]
  },
  {
   "cell_type": "markdown",
   "id": "f8b70d12",
   "metadata": {},
   "source": [
    "# Reporting on sales data\n",
    "\n",
    "Now let's now move on to the competition and challenge.\n",
    "\n",
    "## 📖 Background\n",
    "You work in the accounting department of a company that sells motorcycle parts. The company operates three warehouses in a large metropolitan area.\n",
    "\n",
    "You’ve recently learned data manipulation and plotting, and suggest helping your colleague analyze past sales data. Your colleague wants to capture sales by payment method. She also needs to know the average unit price for each product line."
   ]
  },
  {
   "cell_type": "markdown",
   "id": "bb4cd736",
   "metadata": {},
   "source": [
    "## 💾 The data\n",
    "\n",
    "#### The sales data has the following fields:\n",
    "- \"date\" - The date, from June to August 2021.\n",
    "- \"warehouse\" - The company operates three warehouses: North, Central, and West.\n",
    "- \"client_type\" - There are two types of customers: Retail and Wholesale.\n",
    "- \"product_line\" - Type of products purchased.\n",
    "- \"quantity\" - How many items were purchased.\n",
    "- \"unit_price\" - Price per item sold.\n",
    "- \"total\" - Total sale = quantity * unit_price.\n",
    "- \"payment\" - How the client paid: Cash, Credit card, Transfer."
   ]
  },
  {
   "cell_type": "code",
   "execution_count": 6,
   "id": "9e45e1f8",
   "metadata": {},
   "outputs": [
    {
     "data": {
      "application/com.datacamp.data-table.v1+json": {
       "table": {
        "data": [
         {
          "client_type": "Retail",
          "date": "2021-06-01T00:00:00.000Z",
          "index": 0,
          "payment": "Credit card",
          "product_line": "Miscellaneous",
          "quantity": 8,
          "total": 134.83,
          "unit_price": 16.85,
          "warehouse": "Central"
         },
         {
          "client_type": "Retail",
          "date": "2021-06-01T00:00:00.000Z",
          "index": 1,
          "payment": "Cash",
          "product_line": "Breaking system",
          "quantity": 9,
          "total": 173.61,
          "unit_price": 19.29,
          "warehouse": "North"
         },
         {
          "client_type": "Retail",
          "date": "2021-06-01T00:00:00.000Z",
          "index": 2,
          "payment": "Credit card",
          "product_line": "Suspension & traction",
          "quantity": 8,
          "total": 263.45,
          "unit_price": 32.93,
          "warehouse": "North"
         },
         {
          "client_type": "Wholesale",
          "date": "2021-06-01T00:00:00.000Z",
          "index": 3,
          "payment": "Transfer",
          "product_line": "Frame & body",
          "quantity": 16,
          "total": 605.44,
          "unit_price": 37.84,
          "warehouse": "North"
         },
         {
          "client_type": "Retail",
          "date": "2021-06-01T00:00:00.000Z",
          "index": 4,
          "payment": "Credit card",
          "product_line": "Engine",
          "quantity": 2,
          "total": 120.96,
          "unit_price": 60.48,
          "warehouse": "Central"
         }
        ],
        "schema": {
         "fields": [
          {
           "name": "index",
           "type": "integer"
          },
          {
           "name": "date",
           "type": "datetime"
          },
          {
           "name": "warehouse",
           "type": "string"
          },
          {
           "name": "client_type",
           "type": "string"
          },
          {
           "name": "product_line",
           "type": "string"
          },
          {
           "name": "quantity",
           "type": "integer"
          },
          {
           "name": "unit_price",
           "type": "number"
          },
          {
           "name": "total",
           "type": "number"
          },
          {
           "name": "payment",
           "type": "string"
          }
         ],
         "pandas_version": "1.4.0",
         "primaryKey": [
          "index"
         ]
        }
       },
       "total_rows": 5,
       "truncation_type": null
      },
      "text/html": [
       "<div>\n",
       "<style scoped>\n",
       "    .dataframe tbody tr th:only-of-type {\n",
       "        vertical-align: middle;\n",
       "    }\n",
       "\n",
       "    .dataframe tbody tr th {\n",
       "        vertical-align: top;\n",
       "    }\n",
       "\n",
       "    .dataframe thead th {\n",
       "        text-align: right;\n",
       "    }\n",
       "</style>\n",
       "<table border=\"1\" class=\"dataframe\">\n",
       "  <thead>\n",
       "    <tr style=\"text-align: right;\">\n",
       "      <th></th>\n",
       "      <th>date</th>\n",
       "      <th>warehouse</th>\n",
       "      <th>client_type</th>\n",
       "      <th>product_line</th>\n",
       "      <th>quantity</th>\n",
       "      <th>unit_price</th>\n",
       "      <th>total</th>\n",
       "      <th>payment</th>\n",
       "    </tr>\n",
       "  </thead>\n",
       "  <tbody>\n",
       "    <tr>\n",
       "      <th>0</th>\n",
       "      <td>2021-06-01</td>\n",
       "      <td>Central</td>\n",
       "      <td>Retail</td>\n",
       "      <td>Miscellaneous</td>\n",
       "      <td>8</td>\n",
       "      <td>16.85</td>\n",
       "      <td>134.83</td>\n",
       "      <td>Credit card</td>\n",
       "    </tr>\n",
       "    <tr>\n",
       "      <th>1</th>\n",
       "      <td>2021-06-01</td>\n",
       "      <td>North</td>\n",
       "      <td>Retail</td>\n",
       "      <td>Breaking system</td>\n",
       "      <td>9</td>\n",
       "      <td>19.29</td>\n",
       "      <td>173.61</td>\n",
       "      <td>Cash</td>\n",
       "    </tr>\n",
       "    <tr>\n",
       "      <th>2</th>\n",
       "      <td>2021-06-01</td>\n",
       "      <td>North</td>\n",
       "      <td>Retail</td>\n",
       "      <td>Suspension &amp; traction</td>\n",
       "      <td>8</td>\n",
       "      <td>32.93</td>\n",
       "      <td>263.45</td>\n",
       "      <td>Credit card</td>\n",
       "    </tr>\n",
       "    <tr>\n",
       "      <th>3</th>\n",
       "      <td>2021-06-01</td>\n",
       "      <td>North</td>\n",
       "      <td>Wholesale</td>\n",
       "      <td>Frame &amp; body</td>\n",
       "      <td>16</td>\n",
       "      <td>37.84</td>\n",
       "      <td>605.44</td>\n",
       "      <td>Transfer</td>\n",
       "    </tr>\n",
       "    <tr>\n",
       "      <th>4</th>\n",
       "      <td>2021-06-01</td>\n",
       "      <td>Central</td>\n",
       "      <td>Retail</td>\n",
       "      <td>Engine</td>\n",
       "      <td>2</td>\n",
       "      <td>60.48</td>\n",
       "      <td>120.96</td>\n",
       "      <td>Credit card</td>\n",
       "    </tr>\n",
       "  </tbody>\n",
       "</table>\n",
       "</div>"
      ],
      "text/plain": [
       "        date warehouse client_type           product_line  quantity  \\\n",
       "0 2021-06-01   Central      Retail          Miscellaneous         8   \n",
       "1 2021-06-01     North      Retail        Breaking system         9   \n",
       "2 2021-06-01     North      Retail  Suspension & traction         8   \n",
       "3 2021-06-01     North   Wholesale           Frame & body        16   \n",
       "4 2021-06-01   Central      Retail                 Engine         2   \n",
       "\n",
       "   unit_price   total      payment  \n",
       "0       16.85  134.83  Credit card  \n",
       "1       19.29  173.61         Cash  \n",
       "2       32.93  263.45  Credit card  \n",
       "3       37.84  605.44     Transfer  \n",
       "4       60.48  120.96  Credit card  "
      ]
     },
     "execution_count": 6,
     "metadata": {},
     "output_type": "execute_result"
    }
   ],
   "source": [
    "df.head()"
   ]
  },
  {
   "cell_type": "markdown",
   "id": "6c0744d0",
   "metadata": {},
   "source": [
    "## 💪 Challenge\n",
    "Create a report to answer your colleague's questions. Include:\n",
    "\n",
    "1. What are the total sales for each payment method?\n",
    "2. What is the average unit price for each product line?\n",
    "3. Create plots to visualize findings for questions 1 and 2.\n",
    "4. [Optional] Investigate further (e.g., average purchase value by client type, total purchase value by product line, etc.)\n",
    "5. Summarize your findings."
   ]
  },
  {
   "cell_type": "markdown",
   "id": "fd227115",
   "metadata": {},
   "source": [
    "## ✅ Checklist before publishing\n",
    "- Rename your workspace to make it descriptive of your work. N.B. you should leave the notebook name as notebook.ipynb.\n",
    "- Remove redundant cells like the introduction to data science notebooks, so the workbook is focused on your story.\n",
    "- Check that all the cells run without error."
   ]
  },
  {
   "cell_type": "markdown",
   "id": "d21a86dd",
   "metadata": {},
   "source": [
    "## ⌛️ Time is ticking. Good luck!"
   ]
  },
  {
   "cell_type": "code",
   "execution_count": 7,
   "id": "d9dfa421-6f53-4b3b-bce0-127766f162d2",
   "metadata": {},
   "outputs": [
    {
     "name": "stdout",
     "output_type": "stream",
     "text": [
      "<class 'pandas.core.frame.DataFrame'>\n",
      "RangeIndex: 1000 entries, 0 to 999\n",
      "Data columns (total 8 columns):\n",
      " #   Column        Non-Null Count  Dtype         \n",
      "---  ------        --------------  -----         \n",
      " 0   date          1000 non-null   datetime64[ns]\n",
      " 1   warehouse     1000 non-null   object        \n",
      " 2   client_type   1000 non-null   object        \n",
      " 3   product_line  1000 non-null   object        \n",
      " 4   quantity      1000 non-null   int64         \n",
      " 5   unit_price    1000 non-null   float64       \n",
      " 6   total         1000 non-null   float64       \n",
      " 7   payment       1000 non-null   object        \n",
      "dtypes: datetime64[ns](1), float64(2), int64(1), object(4)\n",
      "memory usage: 62.6+ KB\n"
     ]
    }
   ],
   "source": [
    "df.info()\n",
    "\n"
   ]
  },
  {
   "cell_type": "code",
   "execution_count": 8,
   "id": "6856d63c-8ab2-4d21-973e-6c73f9a41f2b",
   "metadata": {},
   "outputs": [
    {
     "data": {
      "application/com.datacamp.data-table.v1+json": {
       "table": {
        "data": [
         {
          "payment": "Cash",
          "total": 19199.1
         },
         {
          "payment": "Credit card",
          "total": 110271.57
         },
         {
          "payment": "Transfer",
          "total": 159642.33
         }
        ],
        "schema": {
         "fields": [
          {
           "name": "payment",
           "type": "string"
          },
          {
           "name": "total",
           "type": "number"
          }
         ],
         "pandas_version": "1.4.0",
         "primaryKey": [
          "payment"
         ]
        }
       },
       "total_rows": 3,
       "truncation_type": null
      },
      "text/html": [
       "<div>\n",
       "<style scoped>\n",
       "    .dataframe tbody tr th:only-of-type {\n",
       "        vertical-align: middle;\n",
       "    }\n",
       "\n",
       "    .dataframe tbody tr th {\n",
       "        vertical-align: top;\n",
       "    }\n",
       "\n",
       "    .dataframe thead th {\n",
       "        text-align: right;\n",
       "    }\n",
       "</style>\n",
       "<table border=\"1\" class=\"dataframe\">\n",
       "  <thead>\n",
       "    <tr style=\"text-align: right;\">\n",
       "      <th></th>\n",
       "      <th>total</th>\n",
       "    </tr>\n",
       "    <tr>\n",
       "      <th>payment</th>\n",
       "      <th></th>\n",
       "    </tr>\n",
       "  </thead>\n",
       "  <tbody>\n",
       "    <tr>\n",
       "      <th>Cash</th>\n",
       "      <td>19199.10</td>\n",
       "    </tr>\n",
       "    <tr>\n",
       "      <th>Credit card</th>\n",
       "      <td>110271.57</td>\n",
       "    </tr>\n",
       "    <tr>\n",
       "      <th>Transfer</th>\n",
       "      <td>159642.33</td>\n",
       "    </tr>\n",
       "  </tbody>\n",
       "</table>\n",
       "</div>"
      ],
      "text/plain": [
       "                 total\n",
       "payment               \n",
       "Cash          19199.10\n",
       "Credit card  110271.57\n",
       "Transfer     159642.33"
      ]
     },
     "execution_count": 8,
     "metadata": {},
     "output_type": "execute_result"
    }
   ],
   "source": [
    "#1. what are the total sales for each payment method\n",
    "#using groupby method\n",
    "\n",
    "total_sales = df.groupby('payment')[['total']].sum()\n",
    "total_sales"
   ]
  },
  {
   "cell_type": "code",
   "execution_count": 9,
   "id": "2af88bc7",
   "metadata": {},
   "outputs": [
    {
     "data": {
      "text/plain": [
       "product_line\n",
       "Breaking system          17.740522\n",
       "Electrical system        25.585130\n",
       "Engine                   60.091803\n",
       "Frame & body             42.832229\n",
       "Miscellaneous            22.810738\n",
       "Suspension & traction    33.969868\n",
       "Name: unit_price, dtype: float64"
      ]
     },
     "execution_count": 9,
     "metadata": {},
     "output_type": "execute_result"
    }
   ],
   "source": [
    "#2. what is the average unit price for each product line?\n",
    "avg_unit = df.groupby('product_line')['unit_price'].mean()\n",
    "avg_unit"
   ]
  },
  {
   "cell_type": "code",
   "execution_count": 10,
   "id": "edb20799-032f-411d-928c-25b697e77928",
   "metadata": {},
   "outputs": [
    {
     "data": {
      "application/com.datacamp.data-table.v1+json": {
       "table": {
        "data": [
         {
          "product_line": "Breaking system",
          "quantity": 9.2608695652,
          "total": 166.7397826087,
          "unit_price": 17.7405217391
         },
         {
          "product_line": "Electrical system",
          "quantity": 8.7979274611,
          "total": 225.9725906736,
          "unit_price": 25.5851295337
         },
         {
          "product_line": "Engine",
          "quantity": 10.2786885246,
          "total": 622.0554098361,
          "unit_price": 60.0918032787
         },
         {
          "product_line": "Frame & body",
          "quantity": 9.7530120482,
          "total": 415.811626506,
          "unit_price": 42.8322289157
         },
         {
          "product_line": "Miscellaneous",
          "quantity": 9.6393442623,
          "total": 222.6706557377,
          "unit_price": 22.8107377049
         },
         {
          "product_line": "Suspension & traction",
          "quantity": 9.4078947368,
          "total": 320.2377631579,
          "unit_price": 33.9698684211
         }
        ],
        "schema": {
         "fields": [
          {
           "name": "product_line",
           "type": "string"
          },
          {
           "name": "quantity",
           "type": "number"
          },
          {
           "name": "unit_price",
           "type": "number"
          },
          {
           "name": "total",
           "type": "number"
          }
         ],
         "pandas_version": "1.4.0",
         "primaryKey": [
          "product_line"
         ]
        }
       },
       "total_rows": 6,
       "truncation_type": null
      },
      "text/html": [
       "<div>\n",
       "<style scoped>\n",
       "    .dataframe tbody tr th:only-of-type {\n",
       "        vertical-align: middle;\n",
       "    }\n",
       "\n",
       "    .dataframe tbody tr th {\n",
       "        vertical-align: top;\n",
       "    }\n",
       "\n",
       "    .dataframe thead th {\n",
       "        text-align: right;\n",
       "    }\n",
       "</style>\n",
       "<table border=\"1\" class=\"dataframe\">\n",
       "  <thead>\n",
       "    <tr style=\"text-align: right;\">\n",
       "      <th></th>\n",
       "      <th>quantity</th>\n",
       "      <th>unit_price</th>\n",
       "      <th>total</th>\n",
       "    </tr>\n",
       "    <tr>\n",
       "      <th>product_line</th>\n",
       "      <th></th>\n",
       "      <th></th>\n",
       "      <th></th>\n",
       "    </tr>\n",
       "  </thead>\n",
       "  <tbody>\n",
       "    <tr>\n",
       "      <th>Breaking system</th>\n",
       "      <td>9.260870</td>\n",
       "      <td>17.740522</td>\n",
       "      <td>166.739783</td>\n",
       "    </tr>\n",
       "    <tr>\n",
       "      <th>Electrical system</th>\n",
       "      <td>8.797927</td>\n",
       "      <td>25.585130</td>\n",
       "      <td>225.972591</td>\n",
       "    </tr>\n",
       "    <tr>\n",
       "      <th>Engine</th>\n",
       "      <td>10.278689</td>\n",
       "      <td>60.091803</td>\n",
       "      <td>622.055410</td>\n",
       "    </tr>\n",
       "    <tr>\n",
       "      <th>Frame &amp; body</th>\n",
       "      <td>9.753012</td>\n",
       "      <td>42.832229</td>\n",
       "      <td>415.811627</td>\n",
       "    </tr>\n",
       "    <tr>\n",
       "      <th>Miscellaneous</th>\n",
       "      <td>9.639344</td>\n",
       "      <td>22.810738</td>\n",
       "      <td>222.670656</td>\n",
       "    </tr>\n",
       "    <tr>\n",
       "      <th>Suspension &amp; traction</th>\n",
       "      <td>9.407895</td>\n",
       "      <td>33.969868</td>\n",
       "      <td>320.237763</td>\n",
       "    </tr>\n",
       "  </tbody>\n",
       "</table>\n",
       "</div>"
      ],
      "text/plain": [
       "                        quantity  unit_price       total\n",
       "product_line                                            \n",
       "Breaking system         9.260870   17.740522  166.739783\n",
       "Electrical system       8.797927   25.585130  225.972591\n",
       "Engine                 10.278689   60.091803  622.055410\n",
       "Frame & body            9.753012   42.832229  415.811627\n",
       "Miscellaneous           9.639344   22.810738  222.670656\n",
       "Suspension & traction   9.407895   33.969868  320.237763"
      ]
     },
     "execution_count": 10,
     "metadata": {},
     "output_type": "execute_result"
    }
   ],
   "source": [
    "df.groupby('product_line').mean()"
   ]
  },
  {
   "cell_type": "code",
   "execution_count": 11,
   "id": "8ff17897-5749-41b1-83df-d5f3d513e709",
   "metadata": {},
   "outputs": [
    {
     "data": {
      "image/png": "[encoded data removed]",
      "text/plain": [
       "<Figure size 640x480 with 1 Axes>"
      ]
     },
     "metadata": {},
     "output_type": "display_data"
    }
   ],
   "source": [
    "#3. Create plots to visualize findings for questions 1 and 2.\n",
    "#using bar chart\n",
    "#1.\n",
    "total_sales.plot(kind = 'bar')\n",
    "plt.xlabel(\"Payment method\")\n",
    "plt.ylabel(\"Total sales\")\n",
    "plt.title(\"Total sales of each payment method\")\n",
    "plt.show()"
   ]
  },
  {
   "cell_type": "code",
   "execution_count": 12,
   "id": "6814769e-a881-463f-aaaa-5ae90777c2bb",
   "metadata": {},
   "outputs": [
    {
     "data": {
      "image/png": "[encoded data removed]",
      "text/plain": [
       "<Figure size 640x480 with 1 Axes>"
      ]
     },
     "metadata": {},
     "output_type": "display_data"
    }
   ],
   "source": [
    "#3ii\n",
    "avg_unit.plot(kind = 'bar')\n",
    "plt.xlabel(\"Product line\")\n",
    "plt.ylabel(\"Unit price\")\n",
    "plt.title(\"Average unit by product line\")\n",
    "plt.show()"
   ]
  },
  {
   "cell_type": "code",
   "execution_count": 13,
   "id": "1cc1f050-9719-47d7-9c11-a975c49fb8fc",
   "metadata": {},
   "outputs": [
    {
     "data": {
      "image/png": "[encoded data removed]",
      "text/plain": [
       "<Figure size 640x480 with 1 Axes>"
      ]
     },
     "metadata": {},
     "output_type": "display_data"
    }
   ],
   "source": [
    "avg_unit_price = df.groupby('product_line')['unit_price'].mean().sort_values()\n",
    "plt.bar(x = avg_unit_price.index, height = avg_unit_price.values)\n",
    "plt.xlabel('product line')\n",
    "plt.ylabel('Unit price')\n",
    "plt.title('Average unit price by product line')\n",
    "plt.xticks(rotation = 90)\n",
    "plt.show()"
   ]
  },
  {
   "cell_type": "code",
   "execution_count": 14,
   "id": "c158af51-5499-47c5-af0f-34d3c5079d3a",
   "metadata": {},
   "outputs": [
    {
     "data": {
      "text/plain": [
       "client_type\n",
       "Retail       30.286852\n",
       "Wholesale    30.443244\n",
       "Name: unit_price, dtype: float64"
      ]
     },
     "execution_count": 14,
     "metadata": {},
     "output_type": "execute_result"
    }
   ],
   "source": [
    "#4i.[Optional] Investigate further (e.g., average purchase value by client type, total purchase value by product line, etc.)\n",
    "avg_purchase = df.groupby('client_type')['unit_price'].mean()\n",
    "avg_purchase"
   ]
  },
  {
   "cell_type": "code",
   "execution_count": 15,
   "id": "26f50b39-f875-4c25-8a9b-03b4756c0292",
   "metadata": {},
   "outputs": [
    {
     "data": {
      "image/png": "[encoded data removed]",
      "text/plain": [
       "<Figure size 640x480 with 1 Axes>"
      ]
     },
     "metadata": {},
     "output_type": "display_data"
    }
   ],
   "source": [
    "#4i plot\n",
    "avg_purchase.plot(kind='bar')\n",
    "plt.xlabel(\"Client type\")\n",
    "plt.ylabel(\"Unit price\")\n",
    "plt.title(\"Average purchase by clients\")\n",
    "plt.show()"
   ]
  },
  {
   "cell_type": "code",
   "execution_count": 16,
   "id": "77910d7f-3d8c-46da-b04b-9320f33743c0",
   "metadata": {},
   "outputs": [
    {
     "data": {
      "text/plain": [
       "product_line\n",
       "Breaking system          38350.15\n",
       "Electrical system        43612.71\n",
       "Engine                   37945.38\n",
       "Frame & body             69024.73\n",
       "Miscellaneous            27165.82\n",
       "Suspension & traction    73014.21\n",
       "Name: total, dtype: float64"
      ]
     },
     "execution_count": 16,
     "metadata": {},
     "output_type": "execute_result"
    }
   ],
   "source": [
    "#4ii\n",
    "total_purchase = df.groupby('product_line')['total'].sum()\n",
    "total_purchase"
   ]
  },
  {
   "cell_type": "code",
   "execution_count": 17,
   "id": "54e233db-00dc-45f3-8418-d927ad21f918",
   "metadata": {},
   "outputs": [
    {
     "data": {
      "image/png": "[encoded data removed]",
      "text/plain": [
       "<Figure size 640x480 with 1 Axes>"
      ]
     },
     "metadata": {},
     "output_type": "display_data"
    }
   ],
   "source": [
    "total_purchase = df.groupby('product_line')['total'].sum()\n",
    "plt.bar(x = total_purchase.index, height= total_purchase.values)\n",
    "plt.xlabel('product line')\n",
    "plt.ylabel('total')\n",
    "plt.title('Total purchase value by product line')\n",
    "plt.xticks(rotation = 90)\n",
    "plt.show()"
   ]
  },
  {
   "cell_type": "markdown",
   "id": "5d54e116-6af1-4a25-b492-bf32914d5397",
   "metadata": {},
   "source": [
    "5.The highest payment method by customers is transfers, and the lowest is cash.\n",
    "- Engine has the highest average unit price for each product, while breaking system has the lowest average unit price for a product.\n",
    "- \n"
   ]
  }
 ],
 "metadata": {
  "kernelspec": {
   "display_name": "Python 3 (ipykernel)",
   "language": "python",
   "name": "python3"
  },
  "language_info": {
   "codemirror_mode": {
    "name": "ipython",
    "version": 3
   },
   "file_extension": ".py",
   "mimetype": "text/x-python",
   "name": "python",
   "nbconvert_exporter": "python",
   "pygments_lexer": "ipython3",
   "version": "3.9.12"
  }
 },
 "nbformat": 4,
 "nbformat_minor": 5
}
